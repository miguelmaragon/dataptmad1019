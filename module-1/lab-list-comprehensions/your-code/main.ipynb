{
 "cells": [
  {
   "cell_type": "markdown",
   "metadata": {},
   "source": [
    "# List Comprehensions Lab\n",
    "\n",
    "Complete the following set of exercises to solidify your knowledge of list comprehensions."
   ]
  },
  {
   "cell_type": "code",
   "execution_count": 244,
   "metadata": {},
   "outputs": [],
   "source": [
    "import os\n",
    "import numpy as np\n",
    "import pandas as pd"
   ]
  },
  {
   "cell_type": "markdown",
   "metadata": {},
   "source": [
    "### 1. Use a list comprehension to create and print a list of consecutive integers starting with 1 and ending with 50."
   ]
  },
  {
   "cell_type": "code",
   "execution_count": 245,
   "metadata": {},
   "outputs": [
    {
     "name": "stdout",
     "output_type": "stream",
     "text": [
      "[1, 2, 3, 4, 5, 6, 7, 8, 9, 10, 11, 12, 13, 14, 15, 16, 17, 18, 19, 20, 21, 22, 23, 24, 25, 26, 27, 28, 29, 30, 31, 32, 33, 34, 35, 36, 37, 38, 39, 40, 41, 42, 43, 44, 45, 46, 47, 48, 49, 50]\n"
     ]
    }
   ],
   "source": [
    "lst = [i+1 for i in range(50)]\n",
    "print(lst)"
   ]
  },
  {
   "cell_type": "markdown",
   "metadata": {},
   "source": [
    "### 2. Use a list comprehension to create and print a list of even numbers starting with 2 and ending with 200."
   ]
  },
  {
   "cell_type": "code",
   "execution_count": 246,
   "metadata": {},
   "outputs": [
    {
     "name": "stdout",
     "output_type": "stream",
     "text": [
      "[2, 4, 6, 8, 10, 12, 14, 16, 18, 20, 22, 24, 26, 28, 30, 32, 34, 36, 38, 40, 42, 44, 46, 48, 50, 52, 54, 56, 58, 60, 62, 64, 66, 68, 70, 72, 74, 76, 78, 80, 82, 84, 86, 88, 90, 92, 94, 96, 98, 100, 102, 104, 106, 108, 110, 112, 114, 116, 118, 120, 122, 124, 126, 128, 130, 132, 134, 136, 138, 140, 142, 144, 146, 148, 150, 152, 154, 156, 158, 160, 162, 164, 166, 168, 170, 172, 174, 176, 178, 180, 182, 184, 186, 188, 190, 192, 194, 196, 198, 200]\n"
     ]
    }
   ],
   "source": [
    "lst = [i+1 for i in range(200) if i%2 != 0]\n",
    "print(lst)"
   ]
  },
  {
   "cell_type": "markdown",
   "metadata": {},
   "source": [
    "### 3. Use a list comprehension to create and print a list containing all elements of the 10 x 4 Numpy array below."
   ]
  },
  {
   "cell_type": "code",
   "execution_count": 247,
   "metadata": {},
   "outputs": [],
   "source": [
    "a = np.array([[0.84062117, 0.48006452, 0.7876326 , 0.77109654],\n",
    "       [0.44409793, 0.09014516, 0.81835917, 0.87645456],\n",
    "       [0.7066597 , 0.09610873, 0.41247947, 0.57433389],\n",
    "       [0.29960807, 0.42315023, 0.34452557, 0.4751035 ],\n",
    "       [0.17003563, 0.46843998, 0.92796258, 0.69814654],\n",
    "       [0.41290051, 0.19561071, 0.16284783, 0.97016248],\n",
    "       [0.71725408, 0.87702738, 0.31244595, 0.76615487],\n",
    "       [0.20754036, 0.57871812, 0.07214068, 0.40356048],\n",
    "       [0.12149553, 0.53222417, 0.9976855 , 0.12536346],\n",
    "       [0.80930099, 0.50962849, 0.94555126, 0.33364763]])"
   ]
  },
  {
   "cell_type": "code",
   "execution_count": 248,
   "metadata": {},
   "outputs": [
    {
     "name": "stdout",
     "output_type": "stream",
     "text": [
      "[0.84062117, 0.48006452, 0.7876326, 0.77109654, 0.44409793, 0.09014516, 0.81835917, 0.87645456, 0.7066597, 0.09610873, 0.41247947, 0.57433389, 0.29960807, 0.42315023, 0.34452557, 0.4751035, 0.17003563, 0.46843998, 0.92796258, 0.69814654, 0.41290051, 0.19561071, 0.16284783, 0.97016248, 0.71725408, 0.87702738, 0.31244595, 0.76615487, 0.20754036, 0.57871812, 0.07214068, 0.40356048, 0.12149553, 0.53222417, 0.9976855, 0.12536346, 0.80930099, 0.50962849, 0.94555126, 0.33364763]\n"
     ]
    }
   ],
   "source": [
    "lst = [y for x in a for y in x]\n",
    "print(lst)"
   ]
  },
  {
   "cell_type": "markdown",
   "metadata": {},
   "source": [
    "### 4. Add a condition to the list comprehension above so that only values greater than or equal to 0.5 are printed."
   ]
  },
  {
   "cell_type": "code",
   "execution_count": 249,
   "metadata": {},
   "outputs": [
    {
     "name": "stdout",
     "output_type": "stream",
     "text": [
      "[0.84062117, 0.7876326, 0.77109654, 0.81835917, 0.87645456, 0.7066597, 0.57433389, 0.92796258, 0.69814654, 0.97016248, 0.71725408, 0.87702738, 0.76615487, 0.57871812, 0.53222417, 0.9976855, 0.80930099, 0.50962849, 0.94555126]\n"
     ]
    }
   ],
   "source": [
    "lst = [y for x in a for y in x if y >= 0.5]\n",
    "print(lst)"
   ]
  },
  {
   "cell_type": "markdown",
   "metadata": {},
   "source": [
    "### 5. Use a list comprehension to create and print a list containing all elements of the 5 x 2 x 3 Numpy array below."
   ]
  },
  {
   "cell_type": "code",
   "execution_count": 250,
   "metadata": {},
   "outputs": [],
   "source": [
    "b = np.array([[[0.55867166, 0.06210792, 0.08147297],\n",
    "        [0.82579068, 0.91512478, 0.06833034]],\n",
    "\n",
    "       [[0.05440634, 0.65857693, 0.30296619],\n",
    "        [0.06769833, 0.96031863, 0.51293743]],\n",
    "\n",
    "       [[0.09143215, 0.71893382, 0.45850679],\n",
    "        [0.58256464, 0.59005654, 0.56266457]],\n",
    "\n",
    "       [[0.71600294, 0.87392666, 0.11434044],\n",
    "        [0.8694668 , 0.65669313, 0.10708681]],\n",
    "\n",
    "       [[0.07529684, 0.46470767, 0.47984544],\n",
    "        [0.65368638, 0.14901286, 0.23760688]]])"
   ]
  },
  {
   "cell_type": "code",
   "execution_count": 251,
   "metadata": {},
   "outputs": [
    {
     "name": "stdout",
     "output_type": "stream",
     "text": [
      "[0.55867166, 0.06210792, 0.08147297, 0.82579068, 0.91512478, 0.06833034, 0.05440634, 0.65857693, 0.30296619, 0.06769833, 0.96031863, 0.51293743, 0.09143215, 0.71893382, 0.45850679, 0.58256464, 0.59005654, 0.56266457, 0.71600294, 0.87392666, 0.11434044, 0.8694668, 0.65669313, 0.10708681, 0.07529684, 0.46470767, 0.47984544, 0.65368638, 0.14901286, 0.23760688]\n"
     ]
    }
   ],
   "source": [
    "lst = [c for x in b for y in x for c in y]\n",
    "print(lst)"
   ]
  },
  {
   "cell_type": "markdown",
   "metadata": {},
   "source": [
    "### 5. Add a condition to the list comprehension above so that the last value in each subarray is printed, but only if it is less than or equal to 0.5."
   ]
  },
  {
   "cell_type": "code",
   "execution_count": 264,
   "metadata": {},
   "outputs": [
    {
     "name": "stdout",
     "output_type": "stream",
     "text": [
      "[0.06210792, 0.08147297, 0.06833034, 0.05440634, 0.30296619, 0.06769833, 0.09143215, 0.45850679, 0.11434044, 0.10708681, 0.07529684, 0.46470767, 0.47984544, 0.14901286, 0.23760688]\n"
     ]
    }
   ],
   "source": [
    "lst = [c for x in b for item in x for c in item if c <= 0.5]\n",
    "print(lst)"
   ]
  },
  {
   "cell_type": "markdown",
   "metadata": {},
   "source": [
    "### 6. Use a list comprehension to select and print the names of all CSV files in the */data* directory."
   ]
  },
  {
   "cell_type": "code",
   "execution_count": 253,
   "metadata": {},
   "outputs": [
    {
     "name": "stdout",
     "output_type": "stream",
     "text": [
      "['sample_file_6.csv', 'sample_file_0.csv', 'sample_file_5.csv', 'sample_file_3.csv', 'sample_file_9.csv', 'sample_file_1.csv', 'sample_file_4.csv', 'sample_file_2.csv', 'sample_file_7.csv', 'sample_file_8.csv']\n"
     ]
    }
   ],
   "source": [
    "lst = []\n",
    "\n",
    "lst = [file for file in os.listdir(\"/home/miguelmaragon/Documentos/IRONHACK/dataptmad1019/module-1/lab-list-comprehensions/data\") if file.find('.csv') != -1]\n",
    "\n",
    "print(lst)"
   ]
  },
  {
   "cell_type": "markdown",
   "metadata": {},
   "source": [
    "### 7. Use a list comprehension and the Pandas `read_csv` and `concat` methods to read all CSV files in the */data* directory and combine them into a single data frame. Display the top 10 rows of the resulting data frame."
   ]
  },
  {
   "cell_type": "code",
   "execution_count": 254,
   "metadata": {},
   "outputs": [
    {
     "name": "stdout",
     "output_type": "stream",
     "text": [
      "          0         1         2         3         4         5         6  \\\n",
      "0  0.702566  0.092336  0.245083  0.918402  0.695110  0.886921  0.588605   \n",
      "1  0.177005  0.649551  0.467321  0.449597  0.458872  0.815586  0.455132   \n",
      "2  0.689556  0.445586  0.005691  0.150171  0.554146  0.492320  0.185612   \n",
      "3  0.047188  0.854596  0.833368  0.043878  0.883505  0.786302  0.980916   \n",
      "4  0.936065  0.725831  0.184239  0.677391  0.242726  0.125457  0.356254   \n",
      "5  0.734751  0.195362  0.734309  0.598184  0.763433  0.263434  0.868066   \n",
      "6  0.772607  0.445391  0.249642  0.787922  0.598583  0.827238  0.624126   \n",
      "7  0.226428  0.268764  0.694262  0.622335  0.063843  0.122683  0.815625   \n",
      "8  0.362748  0.495430  0.113876  0.594149  0.612522  0.625204  0.864050   \n",
      "9  0.033415  0.340433  0.464971  0.363737  0.025815  0.434129  0.415163   \n",
      "\n",
      "          7         8         9        10        11        12        13  \\\n",
      "0  0.950970  0.168079  0.783107  0.698836  0.120857  0.207432  0.824789   \n",
      "1  0.729812  0.998528  0.048724  0.377391  0.729498  0.721515  0.566724   \n",
      "2  0.060855  0.457443  0.847337  0.603072  0.346574  0.898464  0.482963   \n",
      "3  0.004030  0.619601  0.547769  0.160962  0.545281  0.931623  0.991855   \n",
      "4  0.937350  0.215774  0.212762  0.483018  0.573162  0.634487  0.423924   \n",
      "5  0.058092  0.753502  0.587513  0.311608  0.178356  0.182922  0.147631   \n",
      "6  0.601524  0.688753  0.338870  0.081595  0.471474  0.267443  0.453351   \n",
      "7  0.584542  0.032594  0.589775  0.764350  0.650973  0.565705  0.691784   \n",
      "8  0.260279  0.528873  0.168043  0.715929  0.677014  0.175735  0.632370   \n",
      "9  0.892210  0.381701  0.415264  0.790801  0.696930  0.819751  0.944029   \n",
      "\n",
      "         14        15        16        17        18        19  \n",
      "0  0.349212  0.818606  0.376941  0.886644  0.472826  0.551858  \n",
      "1  0.338366  0.877239  0.129824  0.773155  0.485385  0.686294  \n",
      "2  0.443979  0.430132  0.713078  0.302786  0.051382  0.203699  \n",
      "3  0.821099  0.654592  0.346710  0.183948  0.372739  0.739383  \n",
      "4  0.394633  0.766967  0.606719  0.538712  0.885516  0.667051  \n",
      "5  0.391188  0.816049  0.749068  0.293260  0.937828  0.880858  \n",
      "6  0.800716  0.045749  0.683793  0.389789  0.016787  0.503695  \n",
      "7  0.265223  0.739031  0.560394  0.334802  0.517694  0.646110  \n",
      "8  0.926715  0.085675  0.120525  0.141746  0.771144  0.489660  \n",
      "9  0.869965  0.041723  0.819140  0.676051  0.109349  0.872947  \n"
     ]
    }
   ],
   "source": [
    "big_frame = pd.DataFrame(pd.concat([pd.read_csv(\"/home/miguelmaragon/Documentos/IRONHACK/dataptmad1019/module-1/lab-list-comprehensions/data/\" + filename) for filename in [f for f in listdir(\"/home/miguelmaragon/Documentos/IRONHACK/dataptmad1019/module-1/lab-list-comprehensions/data\") if f.endswith('.csv')]], ignore_index=True))\n",
    "print(big_frame.head(10))"
   ]
  },
  {
   "cell_type": "markdown",
   "metadata": {},
   "source": [
    "### 8. Use a list comprehension to select and print the column numbers for columns from the data set whose median is less than 0.48."
   ]
  },
  {
   "cell_type": "code",
   "execution_count": 259,
   "metadata": {},
   "outputs": [
    {
     "name": "stdout",
     "output_type": "stream",
     "text": [
      "['2', '9', '12', '14', '17', '20']\n"
     ]
    }
   ],
   "source": [
    "#df = [x for x in big_frame.median().values if x < 0.48]\n",
    "#print(df)\n",
    "\n",
    "df1 = [col for col in big_frame._get_numeric_data() if big_frame[col].median() < 0.48]\n",
    "print(df1)\n"
   ]
  },
  {
   "cell_type": "markdown",
   "metadata": {},
   "source": [
    "### 9. Use a list comprehension to add a new column (20) to the data frame whose values are the values in column 19 minus 0.1. Display the top 10 rows of the resulting data frame."
   ]
  },
  {
   "cell_type": "code",
   "execution_count": 256,
   "metadata": {},
   "outputs": [
    {
     "name": "stdout",
     "output_type": "stream",
     "text": [
      "          0         1         2         3         4         5         6  \\\n",
      "0  0.702566  0.092336  0.245083  0.918402  0.695110  0.886921  0.588605   \n",
      "1  0.177005  0.649551  0.467321  0.449597  0.458872  0.815586  0.455132   \n",
      "2  0.689556  0.445586  0.005691  0.150171  0.554146  0.492320  0.185612   \n",
      "3  0.047188  0.854596  0.833368  0.043878  0.883505  0.786302  0.980916   \n",
      "4  0.936065  0.725831  0.184239  0.677391  0.242726  0.125457  0.356254   \n",
      "5  0.734751  0.195362  0.734309  0.598184  0.763433  0.263434  0.868066   \n",
      "6  0.772607  0.445391  0.249642  0.787922  0.598583  0.827238  0.624126   \n",
      "7  0.226428  0.268764  0.694262  0.622335  0.063843  0.122683  0.815625   \n",
      "8  0.362748  0.495430  0.113876  0.594149  0.612522  0.625204  0.864050   \n",
      "9  0.033415  0.340433  0.464971  0.363737  0.025815  0.434129  0.415163   \n",
      "\n",
      "          7         8         9  ...        11        12        13        14  \\\n",
      "0  0.950970  0.168079  0.783107  ...  0.120857  0.207432  0.824789  0.349212   \n",
      "1  0.729812  0.998528  0.048724  ...  0.729498  0.721515  0.566724  0.338366   \n",
      "2  0.060855  0.457443  0.847337  ...  0.346574  0.898464  0.482963  0.443979   \n",
      "3  0.004030  0.619601  0.547769  ...  0.545281  0.931623  0.991855  0.821099   \n",
      "4  0.937350  0.215774  0.212762  ...  0.573162  0.634487  0.423924  0.394633   \n",
      "5  0.058092  0.753502  0.587513  ...  0.178356  0.182922  0.147631  0.391188   \n",
      "6  0.601524  0.688753  0.338870  ...  0.471474  0.267443  0.453351  0.800716   \n",
      "7  0.584542  0.032594  0.589775  ...  0.650973  0.565705  0.691784  0.265223   \n",
      "8  0.260279  0.528873  0.168043  ...  0.677014  0.175735  0.632370  0.926715   \n",
      "9  0.892210  0.381701  0.415264  ...  0.696930  0.819751  0.944029  0.869965   \n",
      "\n",
      "         15        16        17        18        19        20  \n",
      "0  0.818606  0.376941  0.886644  0.472826  0.551858  0.451858  \n",
      "1  0.877239  0.129824  0.773155  0.485385  0.686294  0.586294  \n",
      "2  0.430132  0.713078  0.302786  0.051382  0.203699  0.103699  \n",
      "3  0.654592  0.346710  0.183948  0.372739  0.739383  0.639383  \n",
      "4  0.766967  0.606719  0.538712  0.885516  0.667051  0.567051  \n",
      "5  0.816049  0.749068  0.293260  0.937828  0.880858  0.780858  \n",
      "6  0.045749  0.683793  0.389789  0.016787  0.503695  0.403695  \n",
      "7  0.739031  0.560394  0.334802  0.517694  0.646110  0.546110  \n",
      "8  0.085675  0.120525  0.141746  0.771144  0.489660  0.389660  \n",
      "9  0.041723  0.819140  0.676051  0.109349  0.872947  0.772947  \n",
      "\n",
      "[10 rows x 21 columns]\n"
     ]
    }
   ],
   "source": [
    "big_frame['20'] = big_frame['19']-0.1\n",
    "print(big_frame.head(10))"
   ]
  },
  {
   "cell_type": "markdown",
   "metadata": {},
   "source": [
    "### 10. Use a list comprehension to extract and print all values from the data set that are between 0.7 and 0.75."
   ]
  },
  {
   "cell_type": "code",
   "execution_count": 257,
   "metadata": {},
   "outputs": [
    {
     "name": "stdout",
     "output_type": "stream",
     "text": [
      "[0.7025657075988269, 0.7298115760258881, 0.7294980584878026, 0.7215147068185102, 0.7130781095091867, 0.7393833032570581, 0.7258310816144985, 0.7347510852128797, 0.7343092314001137, 0.7490680818183477, 0.7390312927111312, 0.7159290265157912, 0.7476323136755818, 0.7268545088531969, 0.7111584953876777, 0.7008930873050235, 0.7209375615129192, 0.7303553716733908, 0.7274869207330491, 0.7045750112959754, 0.7051334608870933, 0.7280006345208285, 0.7150799992177622, 0.7321333453970806, 0.7173964318670598, 0.7356923324968598, 0.7357618655811269, 0.7306642125209889, 0.7383982036983279, 0.7178166705957928, 0.7088042362916818, 0.7374449181749492, 0.7264121114538001, 0.7133695725698419, 0.7033930409580709, 0.7013619954419494, 0.7396561066717461, 0.7358941798147411, 0.736029494090402, 0.7085098152301276, 0.7472962776291713, 0.7329024831531535, 0.7124169515124726, 0.71223975981198, 0.7365416322783028, 0.7133690799930356, 0.7078738356977186, 0.7032248108904495, 0.7196096371031628, 0.7244863338885654, 0.7321533684342264, 0.7376946446827494, 0.7132714209987683, 0.7023481768180954]\n"
     ]
    }
   ],
   "source": [
    "lst = [x for row in big_frame.values for x in row if x > 0.7 and x < 0.75]\n",
    "print(lst)"
   ]
  },
  {
   "cell_type": "code",
   "execution_count": null,
   "metadata": {},
   "outputs": [],
   "source": []
  },
  {
   "cell_type": "code",
   "execution_count": null,
   "metadata": {},
   "outputs": [],
   "source": []
  }
 ],
 "metadata": {
  "kernelspec": {
   "display_name": "Python 3",
   "language": "python",
   "name": "python3"
  },
  "language_info": {
   "codemirror_mode": {
    "name": "ipython",
    "version": 3
   },
   "file_extension": ".py",
   "mimetype": "text/x-python",
   "name": "python",
   "nbconvert_exporter": "python",
   "pygments_lexer": "ipython3",
   "version": "3.7.5"
  }
 },
 "nbformat": 4,
 "nbformat_minor": 2
}
